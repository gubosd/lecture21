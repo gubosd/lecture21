{
 "cells": [
  {
   "cell_type": "markdown",
   "id": "9cc9820a",
   "metadata": {},
   "source": [
    "## 딥러닝 영상처리 이해 (동아대)\n",
    "# 신경망 개념"
   ]
  },
  {
   "cell_type": "code",
   "execution_count": 5,
   "id": "7dc8385e",
   "metadata": {},
   "outputs": [],
   "source": [
    "import numpy as np\n",
    "import pandas as pd\n",
    "import matplotlib.pyplot as plt"
   ]
  },
  {
   "cell_type": "markdown",
   "id": "1952c2aa",
   "metadata": {},
   "source": [
    "- 주어진 문제 : 키와 몸무게로 영어성적을 구한다(예측한다)"
   ]
  },
  {
   "cell_type": "code",
   "execution_count": 7,
   "id": "6368e93d",
   "metadata": {},
   "outputs": [
    {
     "data": {
      "text/plain": [
       "array([[160,  50],\n",
       "       [171,  77],\n",
       "       [150,  32]])"
      ]
     },
     "execution_count": 7,
     "metadata": {},
     "output_type": "execute_result"
    }
   ],
   "source": [
    "data = np.array([[160,50], [171,77], [150,32]])\n",
    "data"
   ]
  },
  {
   "cell_type": "code",
   "execution_count": 8,
   "id": "1db48a56",
   "metadata": {},
   "outputs": [],
   "source": [
    "w1 = 2\n",
    "w2 = 1"
   ]
  },
  {
   "cell_type": "code",
   "execution_count": 9,
   "id": "ce3cafa7",
   "metadata": {},
   "outputs": [
    {
     "data": {
      "text/plain": [
       "array([2, 1])"
      ]
     },
     "execution_count": 9,
     "metadata": {},
     "output_type": "execute_result"
    }
   ],
   "source": [
    "w = np.array([2,1]) # 임의로 가중치를 설정했다\n",
    "w"
   ]
  },
  {
   "cell_type": "code",
   "execution_count": 10,
   "id": "be0249e0",
   "metadata": {},
   "outputs": [
    {
     "data": {
      "text/plain": [
       "array([[320,  50],\n",
       "       [342,  77],\n",
       "       [300,  32]])"
      ]
     },
     "execution_count": 10,
     "metadata": {},
     "output_type": "execute_result"
    }
   ],
   "source": [
    "data*w"
   ]
  },
  {
   "cell_type": "code",
   "execution_count": 11,
   "id": "2da12c58",
   "metadata": {},
   "outputs": [
    {
     "data": {
      "text/plain": [
       "array([370, 419, 332])"
      ]
     },
     "execution_count": 11,
     "metadata": {},
     "output_type": "execute_result"
    }
   ],
   "source": [
    "(data*w).sum(axis=1)"
   ]
  },
  {
   "cell_type": "code",
   "execution_count": 12,
   "id": "b1952ca8",
   "metadata": {},
   "outputs": [
    {
     "data": {
      "text/plain": [
       "array([370, 419, 332])"
      ]
     },
     "execution_count": 12,
     "metadata": {},
     "output_type": "execute_result"
    }
   ],
   "source": [
    "data@w # 행렬곱을 이용하여 계산"
   ]
  },
  {
   "cell_type": "code",
   "execution_count": null,
   "id": "44b03528",
   "metadata": {},
   "outputs": [],
   "source": []
  },
  {
   "cell_type": "markdown",
   "id": "a37ff885",
   "metadata": {},
   "source": [
    "### 중간층 추가시 계산법\n",
    "- 노드(동그라미)가 3개인 중간층 하나를 추가함"
   ]
  },
  {
   "cell_type": "code",
   "execution_count": 13,
   "id": "ec854f20",
   "metadata": {},
   "outputs": [
    {
     "data": {
      "text/plain": [
       "array([[160,  50],\n",
       "       [171,  77],\n",
       "       [150,  32]])"
      ]
     },
     "execution_count": 13,
     "metadata": {},
     "output_type": "execute_result"
    }
   ],
   "source": [
    "data = np.array([[160,50], [171,77], [150,32]])\n",
    "data"
   ]
  },
  {
   "cell_type": "code",
   "execution_count": 14,
   "id": "e1653750",
   "metadata": {},
   "outputs": [
    {
     "data": {
      "text/plain": [
       "array([[1., 1., 1.],\n",
       "       [1., 1., 1.]])"
      ]
     },
     "execution_count": 14,
     "metadata": {},
     "output_type": "execute_result"
    }
   ],
   "source": [
    "W1 = np.ones([2,3])\n",
    "W1"
   ]
  },
  {
   "cell_type": "code",
   "execution_count": 15,
   "id": "74554984",
   "metadata": {},
   "outputs": [
    {
     "data": {
      "text/plain": [
       "array([[210., 210., 210.],\n",
       "       [248., 248., 248.],\n",
       "       [182., 182., 182.]])"
      ]
     },
     "execution_count": 15,
     "metadata": {},
     "output_type": "execute_result"
    }
   ],
   "source": [
    "y1 = data@W1\n",
    "y1"
   ]
  },
  {
   "cell_type": "code",
   "execution_count": 16,
   "id": "13b64e34",
   "metadata": {},
   "outputs": [
    {
     "data": {
      "text/plain": [
       "array([1., 1., 1.])"
      ]
     },
     "execution_count": 16,
     "metadata": {},
     "output_type": "execute_result"
    }
   ],
   "source": [
    "W2 = np.array([1., 1., 1.]) # W2 = np.ones([3,1])\n",
    "W2"
   ]
  },
  {
   "cell_type": "code",
   "execution_count": 17,
   "id": "68e7bfe8",
   "metadata": {},
   "outputs": [
    {
     "data": {
      "text/plain": [
       "array([630., 744., 546.])"
      ]
     },
     "execution_count": 17,
     "metadata": {},
     "output_type": "execute_result"
    }
   ],
   "source": [
    "y = y1@W2\n",
    "y"
   ]
  },
  {
   "cell_type": "code",
   "execution_count": null,
   "id": "d6d107c9",
   "metadata": {},
   "outputs": [],
   "source": []
  },
  {
   "cell_type": "code",
   "execution_count": 18,
   "id": "e62b1102",
   "metadata": {},
   "outputs": [
    {
     "data": {
      "text/plain": [
       "array([630., 744., 546.])"
      ]
     },
     "execution_count": 18,
     "metadata": {},
     "output_type": "execute_result"
    }
   ],
   "source": [
    "y = (data@W1)@W2\n",
    "y"
   ]
  },
  {
   "cell_type": "code",
   "execution_count": null,
   "id": "7752a647",
   "metadata": {},
   "outputs": [],
   "source": []
  },
  {
   "cell_type": "markdown",
   "id": "b5ac95d9",
   "metadata": {},
   "source": [
    "### 절편값 추가시"
   ]
  },
  {
   "cell_type": "code",
   "execution_count": 19,
   "id": "3d4824ee",
   "metadata": {},
   "outputs": [
    {
     "data": {
      "text/plain": [
       "(array([[1., 1., 1.],\n",
       "        [1., 1., 1.]]),\n",
       " array([1., 1., 1.]))"
      ]
     },
     "execution_count": 19,
     "metadata": {},
     "output_type": "execute_result"
    }
   ],
   "source": [
    "W1 = np.ones([2,3])\n",
    "b1 = np.ones(3) # 오른쪽 동그라미 갯수만큼 잡으면 된다\n",
    "W1, b1"
   ]
  },
  {
   "cell_type": "code",
   "execution_count": 20,
   "id": "e8c7ee20",
   "metadata": {},
   "outputs": [
    {
     "data": {
      "text/plain": [
       "array([[211., 211., 211.],\n",
       "       [249., 249., 249.],\n",
       "       [183., 183., 183.]])"
      ]
     },
     "execution_count": 20,
     "metadata": {},
     "output_type": "execute_result"
    }
   ],
   "source": [
    "y1 = data@W1 + b1\n",
    "y1"
   ]
  },
  {
   "cell_type": "code",
   "execution_count": 23,
   "id": "dc66dfcd",
   "metadata": {},
   "outputs": [],
   "source": [
    "W2 = np.ones(3) # np.ones([3,1])\n",
    "b2 = 1."
   ]
  },
  {
   "cell_type": "code",
   "execution_count": 24,
   "id": "f1ba391b",
   "metadata": {},
   "outputs": [
    {
     "data": {
      "text/plain": [
       "array([634., 748., 550.])"
      ]
     },
     "execution_count": 24,
     "metadata": {},
     "output_type": "execute_result"
    }
   ],
   "source": [
    "y = y1@W2 + b2\n",
    "y"
   ]
  },
  {
   "cell_type": "code",
   "execution_count": null,
   "id": "31f324e0",
   "metadata": {},
   "outputs": [],
   "source": []
  },
  {
   "cell_type": "code",
   "execution_count": 25,
   "id": "b6f93be0",
   "metadata": {},
   "outputs": [
    {
     "data": {
      "text/plain": [
       "array([634., 748., 550.])"
      ]
     },
     "execution_count": 25,
     "metadata": {},
     "output_type": "execute_result"
    }
   ],
   "source": [
    "y = (data@W1 + b1)@W2 + b2\n",
    "y"
   ]
  },
  {
   "cell_type": "code",
   "execution_count": null,
   "id": "02ee03a6",
   "metadata": {},
   "outputs": [],
   "source": []
  },
  {
   "cell_type": "markdown",
   "id": "b583e5f9",
   "metadata": {},
   "source": [
    "### 활성화 함수 적용"
   ]
  },
  {
   "cell_type": "markdown",
   "id": "70c1b2f6",
   "metadata": {},
   "source": [
    "- sigmoid 활성화 함수"
   ]
  },
  {
   "cell_type": "code",
   "execution_count": 32,
   "id": "04707ba3",
   "metadata": {},
   "outputs": [],
   "source": [
    "def sigmoid(t):\n",
    "    return 1/(1+np.exp(-t))"
   ]
  },
  {
   "cell_type": "code",
   "execution_count": 33,
   "id": "ca850451",
   "metadata": {},
   "outputs": [
    {
     "data": {
      "text/plain": [
       "[<matplotlib.lines.Line2D at 0x236c477e6d0>]"
      ]
     },
     "execution_count": 33,
     "metadata": {},
     "output_type": "execute_result"
    },
    {
     "data": {
      "image/png": "[encoded data removed]",
      "text/plain": [
       "<Figure size 432x288 with 1 Axes>"
      ]
     },
     "metadata": {
      "needs_background": "light"
     },
     "output_type": "display_data"
    }
   ],
   "source": [
    "x = np.arange(-5,5,0.1)\n",
    "plt.plot(x, sigmoid(x))"
   ]
  },
  {
   "cell_type": "code",
   "execution_count": null,
   "id": "06b13e2e",
   "metadata": {},
   "outputs": [],
   "source": []
  },
  {
   "cell_type": "code",
   "execution_count": 34,
   "id": "72b82ffb",
   "metadata": {},
   "outputs": [
    {
     "data": {
      "text/plain": [
       "array([[211., 211., 211.],\n",
       "       [249., 249., 249.],\n",
       "       [183., 183., 183.]])"
      ]
     },
     "execution_count": 34,
     "metadata": {},
     "output_type": "execute_result"
    }
   ],
   "source": [
    "y1 = data@W1 + b1\n",
    "y1"
   ]
  },
  {
   "cell_type": "code",
   "execution_count": 35,
   "id": "d3824681",
   "metadata": {},
   "outputs": [
    {
     "data": {
      "text/plain": [
       "array([[1., 1., 1.],\n",
       "       [1., 1., 1.],\n",
       "       [1., 1., 1.]])"
      ]
     },
     "execution_count": 35,
     "metadata": {},
     "output_type": "execute_result"
    }
   ],
   "source": [
    "y1 = sigmoid(y1)\n",
    "y1"
   ]
  },
  {
   "cell_type": "code",
   "execution_count": 36,
   "id": "7c28802a",
   "metadata": {},
   "outputs": [
    {
     "data": {
      "text/plain": [
       "array([0.98201379, 0.98201379, 0.98201379])"
      ]
     },
     "execution_count": 36,
     "metadata": {},
     "output_type": "execute_result"
    }
   ],
   "source": [
    "# 출력층에도 시그모이드 적용한 경우\n",
    "y = sigmoid(y1@W2 + b2)\n",
    "y"
   ]
  },
  {
   "cell_type": "code",
   "execution_count": null,
   "id": "10973383",
   "metadata": {},
   "outputs": [],
   "source": []
  },
  {
   "cell_type": "markdown",
   "id": "453200c2",
   "metadata": {},
   "source": [
    "- ReLU 활성화 함수"
   ]
  },
  {
   "cell_type": "code",
   "execution_count": 37,
   "id": "fe1c1386",
   "metadata": {},
   "outputs": [
    {
     "data": {
      "text/plain": [
       "3"
      ]
     },
     "execution_count": 37,
     "metadata": {},
     "output_type": "execute_result"
    }
   ],
   "source": [
    "np.maximum(3,1)"
   ]
  },
  {
   "cell_type": "code",
   "execution_count": 38,
   "id": "5d8c458e",
   "metadata": {},
   "outputs": [
    {
     "data": {
      "text/plain": [
       "array([3, 2, 3])"
      ]
     },
     "execution_count": 38,
     "metadata": {},
     "output_type": "execute_result"
    }
   ],
   "source": [
    "np.maximum([1,2,3], [3,2,1])"
   ]
  },
  {
   "cell_type": "code",
   "execution_count": 39,
   "id": "5cfb4575",
   "metadata": {},
   "outputs": [
    {
     "data": {
      "text/plain": [
       "array([1, 0, 3, 0])"
      ]
     },
     "execution_count": 39,
     "metadata": {},
     "output_type": "execute_result"
    }
   ],
   "source": [
    "np.maximum([1,-2,3,-4], 0)"
   ]
  },
  {
   "cell_type": "code",
   "execution_count": null,
   "id": "8b2d355a",
   "metadata": {},
   "outputs": [],
   "source": []
  },
  {
   "cell_type": "code",
   "execution_count": 40,
   "id": "407f0dbd",
   "metadata": {},
   "outputs": [
    {
     "data": {
      "text/plain": [
       "array([[211., 211., 211.],\n",
       "       [249., 249., 249.],\n",
       "       [183., 183., 183.]])"
      ]
     },
     "execution_count": 40,
     "metadata": {},
     "output_type": "execute_result"
    }
   ],
   "source": [
    "y1 = data@W1 + b1\n",
    "y1"
   ]
  },
  {
   "cell_type": "code",
   "execution_count": 41,
   "id": "3af6c4a7",
   "metadata": {},
   "outputs": [
    {
     "data": {
      "text/plain": [
       "array([[211., 211., 211.],\n",
       "       [249., 249., 249.],\n",
       "       [183., 183., 183.]])"
      ]
     },
     "execution_count": 41,
     "metadata": {},
     "output_type": "execute_result"
    }
   ],
   "source": [
    "y1 = np.maximum(y1, 0)\n",
    "y1"
   ]
  },
  {
   "cell_type": "code",
   "execution_count": null,
   "id": "babea493",
   "metadata": {},
   "outputs": [],
   "source": []
  },
  {
   "cell_type": "markdown",
   "id": "9f5831be",
   "metadata": {},
   "source": [
    "### 중간층이 여러개 일때\n",
    "- 첫번째 중간층 : 노드가 5개, 활성화함수가 sigmoid\n",
    "- 두번째 중간층 : 노드가 10개, 활성화함수가 ReLU"
   ]
  },
  {
   "cell_type": "code",
   "execution_count": 42,
   "id": "afcf6374",
   "metadata": {},
   "outputs": [
    {
     "data": {
      "text/plain": [
       "array([[160,  50],\n",
       "       [171,  77],\n",
       "       [150,  32]])"
      ]
     },
     "execution_count": 42,
     "metadata": {},
     "output_type": "execute_result"
    }
   ],
   "source": [
    "data = np.array([[160,50], [171,77], [150,32]])\n",
    "data"
   ]
  },
  {
   "cell_type": "code",
   "execution_count": 43,
   "id": "f04848ae",
   "metadata": {},
   "outputs": [
    {
     "data": {
      "text/plain": [
       "array([[1., 1., 1., 1., 1.],\n",
       "       [1., 1., 1., 1., 1.],\n",
       "       [1., 1., 1., 1., 1.]])"
      ]
     },
     "execution_count": 43,
     "metadata": {},
     "output_type": "execute_result"
    }
   ],
   "source": [
    "W1 = np.ones([2,5])\n",
    "b1 = np.ones(5)\n",
    "\n",
    "y1 = sigmoid(data@W1 + b1)\n",
    "y1"
   ]
  },
  {
   "cell_type": "code",
   "execution_count": 45,
   "id": "c3ec51d8",
   "metadata": {},
   "outputs": [
    {
     "data": {
      "text/plain": [
       "array([[6., 6., 6., 6., 6., 6., 6., 6., 6., 6.],\n",
       "       [6., 6., 6., 6., 6., 6., 6., 6., 6., 6.],\n",
       "       [6., 6., 6., 6., 6., 6., 6., 6., 6., 6.]])"
      ]
     },
     "execution_count": 45,
     "metadata": {},
     "output_type": "execute_result"
    }
   ],
   "source": [
    "W2 = np.ones([ 5, 10])\n",
    "b2 = np.ones(  10)\n",
    "\n",
    "y2 = np.maximum(y1@W2 + b2, 0) # ReLU 적용\n",
    "y2"
   ]
  },
  {
   "cell_type": "markdown",
   "id": "2caed384",
   "metadata": {},
   "source": [
    "- 출력층에 sigmoid 를 적용하면 분류 문제가 된다"
   ]
  },
  {
   "cell_type": "code",
   "execution_count": 47,
   "id": "94763664",
   "metadata": {},
   "outputs": [
    {
     "data": {
      "text/plain": [
       "array([1., 1., 1.])"
      ]
     },
     "execution_count": 47,
     "metadata": {},
     "output_type": "execute_result"
    }
   ],
   "source": [
    "W3 = np.ones(10) # np.ones([10,1])\n",
    "b3 = 1.\n",
    "\n",
    "y = sigmoid(y2@W3 + b3) # sigmoid 를 적용하면 0~1 사이의 확률값이 된다 (0이면 강아지, 1이면 고양이)\n",
    "y"
   ]
  },
  {
   "cell_type": "code",
   "execution_count": null,
   "id": "4bedc235",
   "metadata": {},
   "outputs": [],
   "source": []
  },
  {
   "cell_type": "markdown",
   "id": "0eff9e35",
   "metadata": {},
   "source": [
    "### 크로스 엔트로피 계산법 (분류 문제)"
   ]
  },
  {
   "cell_type": "code",
   "execution_count": 49,
   "id": "894c2ff8",
   "metadata": {},
   "outputs": [
    {
     "data": {
      "text/plain": [
       "1.2039728043259361"
      ]
     },
     "execution_count": 49,
     "metadata": {},
     "output_type": "execute_result"
    }
   ],
   "source": [
    "-np.log(0.3)"
   ]
  },
  {
   "cell_type": "code",
   "execution_count": 50,
   "id": "5c78f089",
   "metadata": {},
   "outputs": [
    {
     "data": {
      "text/plain": [
       "0.10536051565782628"
      ]
     },
     "execution_count": 50,
     "metadata": {},
     "output_type": "execute_result"
    }
   ],
   "source": [
    "-np.log(0.9)"
   ]
  },
  {
   "cell_type": "code",
   "execution_count": 51,
   "id": "a3d27b11",
   "metadata": {},
   "outputs": [
    {
     "name": "stderr",
     "output_type": "stream",
     "text": [
      "<ipython-input-51-bffa671ebd70>:1: RuntimeWarning: divide by zero encountered in log\n",
      "  -np.log(0)\n"
     ]
    },
    {
     "data": {
      "text/plain": [
       "inf"
      ]
     },
     "execution_count": 51,
     "metadata": {},
     "output_type": "execute_result"
    }
   ],
   "source": [
    "-np.log(0)"
   ]
  },
  {
   "cell_type": "code",
   "execution_count": 52,
   "id": "bea1f889",
   "metadata": {},
   "outputs": [
    {
     "data": {
      "text/plain": [
       "-0.0"
      ]
     },
     "execution_count": 52,
     "metadata": {},
     "output_type": "execute_result"
    }
   ],
   "source": [
    "-np.log(1)"
   ]
  },
  {
   "cell_type": "code",
   "execution_count": null,
   "id": "75e45c40",
   "metadata": {},
   "outputs": [],
   "source": []
  },
  {
   "cell_type": "markdown",
   "id": "3a29613f",
   "metadata": {},
   "source": [
    "### 텐서플로 설치\n",
    "- pip install tensorflow"
   ]
  },
  {
   "cell_type": "code",
   "execution_count": 53,
   "id": "1c8e8b11",
   "metadata": {},
   "outputs": [],
   "source": [
    "import tensorflow as tf"
   ]
  },
  {
   "cell_type": "code",
   "execution_count": 54,
   "id": "59c02252",
   "metadata": {},
   "outputs": [],
   "source": [
    "from tensorflow import keras"
   ]
  },
  {
   "cell_type": "code",
   "execution_count": 55,
   "id": "b60a1437",
   "metadata": {},
   "outputs": [
    {
     "data": {
      "text/plain": [
       "'2.6.1'"
      ]
     },
     "execution_count": 55,
     "metadata": {},
     "output_type": "execute_result"
    }
   ],
   "source": [
    "tf.__version__"
   ]
  },
  {
   "cell_type": "code",
   "execution_count": 56,
   "id": "10155062",
   "metadata": {},
   "outputs": [
    {
     "data": {
      "text/plain": [
       "[name: \"/device:CPU:0\"\n",
       " device_type: \"CPU\"\n",
       " memory_limit: 268435456\n",
       " locality {\n",
       " }\n",
       " incarnation: 12978416999645952750]"
      ]
     },
     "execution_count": 56,
     "metadata": {},
     "output_type": "execute_result"
    }
   ],
   "source": [
    "from tensorflow.python.client import device_lib\n",
    "device_lib.list_local_devices()\n",
    "# GPU드라이버, CUDA, cuDNN"
   ]
  },
  {
   "cell_type": "code",
   "execution_count": null,
   "id": "f7e50e1b",
   "metadata": {},
   "outputs": [],
   "source": []
  },
  {
   "cell_type": "markdown",
   "id": "999efc10",
   "metadata": {},
   "source": [
    "### 케라스 기본 적용"
   ]
  },
  {
   "cell_type": "code",
   "execution_count": 57,
   "id": "66cc3a72",
   "metadata": {},
   "outputs": [],
   "source": [
    "model = keras.models.Sequential()\n",
    "model.add(keras.layers.Dense(256, activation='relu', input_shape=(5,)))\n",
    "model.add(keras.layers.Dense(64, activation='relu'))\n",
    "model.add(keras.layers.Dense(1))"
   ]
  },
  {
   "cell_type": "code",
   "execution_count": 58,
   "id": "b3bb9906",
   "metadata": {},
   "outputs": [],
   "source": [
    "model.compile(loss='mse' , optimizer='rmsprop')"
   ]
  },
  {
   "cell_type": "code",
   "execution_count": 59,
   "id": "46bf494b",
   "metadata": {},
   "outputs": [
    {
     "ename": "NameError",
     "evalue": "name 'X' is not defined",
     "output_type": "error",
     "traceback": [
      "\u001b[1;31m---------------------------------------------------------------------------\u001b[0m",
      "\u001b[1;31mNameError\u001b[0m                                 Traceback (most recent call last)",
      "\u001b[1;32m<ipython-input-59-590c21006775>\u001b[0m in \u001b[0;36m<module>\u001b[1;34m\u001b[0m\n\u001b[1;32m----> 1\u001b[1;33m \u001b[0mmodel\u001b[0m\u001b[1;33m.\u001b[0m\u001b[0mfit\u001b[0m\u001b[1;33m(\u001b[0m\u001b[0mX\u001b[0m\u001b[1;33m,\u001b[0m \u001b[0my\u001b[0m\u001b[1;33m,\u001b[0m \u001b[0mbatch_size\u001b[0m\u001b[1;33m=\u001b[0m\u001b[1;36m32\u001b[0m\u001b[1;33m,\u001b[0m \u001b[0mepochs\u001b[0m\u001b[1;33m=\u001b[0m\u001b[1;36m100\u001b[0m\u001b[1;33m)\u001b[0m\u001b[1;33m\u001b[0m\u001b[1;33m\u001b[0m\u001b[0m\n\u001b[0m",
      "\u001b[1;31mNameError\u001b[0m: name 'X' is not defined"
     ]
    }
   ],
   "source": [
    "model.fit(X, y, batch_size=32, epochs=100) # 훈련은 이걸로 끝난다"
   ]
  },
  {
   "cell_type": "code",
   "execution_count": null,
   "id": "8b76a57e",
   "metadata": {},
   "outputs": [],
   "source": [
    "pred_y = model.predict(X_test)"
   ]
  },
  {
   "cell_type": "code",
   "execution_count": null,
   "id": "d3a6f0ff",
   "metadata": {},
   "outputs": [],
   "source": []
  },
  {
   "cell_type": "code",
   "execution_count": 61,
   "id": "448ffde7",
   "metadata": {},
   "outputs": [
    {
     "data": {
      "text/plain": [
       "(100, 5)"
      ]
     },
     "execution_count": 61,
     "metadata": {},
     "output_type": "execute_result"
    }
   ],
   "source": [
    "X = np.random.randn(100,5) # 100은 샘플갯수, 5는 input_shape=(5,)\n",
    "X.shape"
   ]
  },
  {
   "cell_type": "code",
   "execution_count": 63,
   "id": "63cacdb2",
   "metadata": {},
   "outputs": [
    {
     "data": {
      "text/plain": [
       "(100,)"
      ]
     },
     "execution_count": 63,
     "metadata": {},
     "output_type": "execute_result"
    }
   ],
   "source": [
    "y = np.random.randn(100) # 목표값, 타겟값, 정답\n",
    "y.shape"
   ]
  },
  {
   "cell_type": "code",
   "execution_count": 64,
   "id": "ea88fc2c",
   "metadata": {},
   "outputs": [],
   "source": [
    "model = keras.models.Sequential()\n",
    "model.add(keras.layers.Dense(256, activation='relu', input_shape=(5,)))\n",
    "model.add(keras.layers.Dense(64, activation='relu'))\n",
    "model.add(keras.layers.Dense(1))"
   ]
  },
  {
   "cell_type": "code",
   "execution_count": 65,
   "id": "7ac5303c",
   "metadata": {},
   "outputs": [],
   "source": [
    "model.compile(loss='mse' , optimizer='rmsprop')"
   ]
  },
  {
   "cell_type": "code",
   "execution_count": 66,
   "id": "34e4267a",
   "metadata": {},
   "outputs": [
    {
     "name": "stdout",
     "output_type": "stream",
     "text": [
      "Epoch 1/100\n",
      "4/4 [==============================] - 1s 3ms/step - loss: 0.9426\n",
      "Epoch 2/100\n",
      "4/4 [==============================] - 0s 2ms/step - loss: 0.9014\n",
      "Epoch 3/100\n",
      "4/4 [==============================] - 0s 2ms/step - loss: 0.8096\n",
      "Epoch 4/100\n",
      "4/4 [==============================] - 0s 2ms/step - loss: 0.7979\n",
      "Epoch 5/100\n",
      "4/4 [==============================] - 0s 2ms/step - loss: 0.7725\n",
      "Epoch 6/100\n",
      "4/4 [==============================] - 0s 1ms/step - loss: 0.7568\n",
      "Epoch 7/100\n",
      "4/4 [==============================] - 0s 3ms/step - loss: 0.7421\n",
      "Epoch 8/100\n",
      "4/4 [==============================] - 0s 2ms/step - loss: 0.7273\n",
      "Epoch 9/100\n",
      "4/4 [==============================] - 0s 1ms/step - loss: 0.7161\n",
      "Epoch 10/100\n",
      "4/4 [==============================] - 0s 3ms/step - loss: 0.7159\n",
      "Epoch 11/100\n",
      "4/4 [==============================] - 0s 4ms/step - loss: 0.6871\n",
      "Epoch 12/100\n",
      "4/4 [==============================] - 0s 1ms/step - loss: 0.6757\n",
      "Epoch 13/100\n",
      "4/4 [==============================] - 0s 2ms/step - loss: 0.6695\n",
      "Epoch 14/100\n",
      "4/4 [==============================] - 0s 3ms/step - loss: 0.6805\n",
      "Epoch 15/100\n",
      "4/4 [==============================] - 0s 2ms/step - loss: 0.6470\n",
      "Epoch 16/100\n",
      "4/4 [==============================] - 0s 2ms/step - loss: 0.6328\n",
      "Epoch 17/100\n",
      "4/4 [==============================] - 0s 2ms/step - loss: 0.6445\n",
      "Epoch 18/100\n",
      "4/4 [==============================] - 0s 2ms/step - loss: 0.6417\n",
      "Epoch 19/100\n",
      "4/4 [==============================] - 0s 2ms/step - loss: 0.6164\n",
      "Epoch 20/100\n",
      "4/4 [==============================] - 0s 2ms/step - loss: 0.6078\n",
      "Epoch 21/100\n",
      "4/4 [==============================] - 0s 1ms/step - loss: 0.6053\n",
      "Epoch 22/100\n",
      "4/4 [==============================] - 0s 3ms/step - loss: 0.5886\n",
      "Epoch 23/100\n",
      "4/4 [==============================] - ETA: 0s - loss: 0.568 - 0s 2ms/step - loss: 0.5725\n",
      "Epoch 24/100\n",
      "4/4 [==============================] - 0s 997us/step - loss: 0.5788\n",
      "Epoch 25/100\n",
      "4/4 [==============================] - 0s 2ms/step - loss: 0.5683\n",
      "Epoch 26/100\n",
      "4/4 [==============================] - 0s 2ms/step - loss: 0.5633\n",
      "Epoch 27/100\n",
      "4/4 [==============================] - 0s 2ms/step - loss: 0.5429\n",
      "Epoch 28/100\n",
      "4/4 [==============================] - 0s 2ms/step - loss: 0.5411\n",
      "Epoch 29/100\n",
      "4/4 [==============================] - 0s 2ms/step - loss: 0.5393\n",
      "Epoch 30/100\n",
      "4/4 [==============================] - 0s 2ms/step - loss: 0.5351\n",
      "Epoch 31/100\n",
      "4/4 [==============================] - 0s 1ms/step - loss: 0.5279\n",
      "Epoch 32/100\n",
      "4/4 [==============================] - 0s 4ms/step - loss: 0.5133\n",
      "Epoch 33/100\n",
      "4/4 [==============================] - 0s 2ms/step - loss: 0.5021\n",
      "Epoch 34/100\n",
      "4/4 [==============================] - 0s 2ms/step - loss: 0.5056\n",
      "Epoch 35/100\n",
      "4/4 [==============================] - 0s 1ms/step - loss: 0.4961\n",
      "Epoch 36/100\n",
      "4/4 [==============================] - 0s 1ms/step - loss: 0.5008\n",
      "Epoch 37/100\n",
      "4/4 [==============================] - 0s 2ms/step - loss: 0.4910\n",
      "Epoch 38/100\n",
      "4/4 [==============================] - 0s 2ms/step - loss: 0.4905\n",
      "Epoch 39/100\n",
      "4/4 [==============================] - 0s 2ms/step - loss: 0.4675\n",
      "Epoch 40/100\n",
      "4/4 [==============================] - 0s 2ms/step - loss: 0.4905\n",
      "Epoch 41/100\n",
      "4/4 [==============================] - 0s 2ms/step - loss: 0.4575\n",
      "Epoch 42/100\n",
      "4/4 [==============================] - 0s 1ms/step - loss: 0.4635\n",
      "Epoch 43/100\n",
      "4/4 [==============================] - 0s 3ms/step - loss: 0.4463\n",
      "Epoch 44/100\n",
      "4/4 [==============================] - 0s 2ms/step - loss: 0.4509\n",
      "Epoch 45/100\n",
      "4/4 [==============================] - 0s 1ms/step - loss: 0.4335\n",
      "Epoch 46/100\n",
      "4/4 [==============================] - 0s 2ms/step - loss: 0.4330\n",
      "Epoch 47/100\n",
      "4/4 [==============================] - 0s 2ms/step - loss: 0.4186\n",
      "Epoch 48/100\n",
      "4/4 [==============================] - 0s 2ms/step - loss: 0.4296\n",
      "Epoch 49/100\n",
      "4/4 [==============================] - 0s 5ms/step - loss: 0.4208\n",
      "Epoch 50/100\n",
      "4/4 [==============================] - 0s 2ms/step - loss: 0.4131\n",
      "Epoch 51/100\n",
      "4/4 [==============================] - 0s 2ms/step - loss: 0.4261\n",
      "Epoch 52/100\n",
      "4/4 [==============================] - 0s 1ms/step - loss: 0.4066\n",
      "Epoch 53/100\n",
      "4/4 [==============================] - 0s 2ms/step - loss: 0.3959\n",
      "Epoch 54/100\n",
      "4/4 [==============================] - 0s 2ms/step - loss: 0.4114\n",
      "Epoch 55/100\n",
      "4/4 [==============================] - 0s 2ms/step - loss: 0.3773\n",
      "Epoch 56/100\n",
      "4/4 [==============================] - 0s 2ms/step - loss: 0.3706\n",
      "Epoch 57/100\n",
      "4/4 [==============================] - 0s 2ms/step - loss: 0.3671\n",
      "Epoch 58/100\n",
      "4/4 [==============================] - 0s 1ms/step - loss: 0.3923\n",
      "Epoch 59/100\n",
      "4/4 [==============================] - 0s 2ms/step - loss: 0.3706\n",
      "Epoch 60/100\n",
      "4/4 [==============================] - 0s 1ms/step - loss: 0.3604\n",
      "Epoch 61/100\n",
      "4/4 [==============================] - 0s 2ms/step - loss: 0.3619\n",
      "Epoch 62/100\n",
      "4/4 [==============================] - 0s 2ms/step - loss: 0.3555\n",
      "Epoch 63/100\n",
      "4/4 [==============================] - 0s 2ms/step - loss: 0.3661\n",
      "Epoch 64/100\n",
      "4/4 [==============================] - 0s 3ms/step - loss: 0.3457\n",
      "Epoch 65/100\n",
      "4/4 [==============================] - 0s 2ms/step - loss: 0.3456\n",
      "Epoch 66/100\n",
      "4/4 [==============================] - 0s 1ms/step - loss: 0.3358\n",
      "Epoch 67/100\n",
      "4/4 [==============================] - 0s 3ms/step - loss: 0.3261\n",
      "Epoch 68/100\n",
      "4/4 [==============================] - 0s 3ms/step - loss: 0.3471\n",
      "Epoch 69/100\n",
      "4/4 [==============================] - 0s 2ms/step - loss: 0.3487\n",
      "Epoch 70/100\n",
      "4/4 [==============================] - 0s 2ms/step - loss: 0.3128\n",
      "Epoch 71/100\n",
      "4/4 [==============================] - 0s 3ms/step - loss: 0.3566\n",
      "Epoch 72/100\n",
      "4/4 [==============================] - 0s 3ms/step - loss: 0.3115\n",
      "Epoch 73/100\n",
      "4/4 [==============================] - 0s 3ms/step - loss: 0.3544\n",
      "Epoch 74/100\n",
      "4/4 [==============================] - 0s 2ms/step - loss: 0.3072\n",
      "Epoch 75/100\n",
      "4/4 [==============================] - 0s 3ms/step - loss: 0.2942\n",
      "Epoch 76/100\n",
      "4/4 [==============================] - 0s 4ms/step - loss: 0.3004\n",
      "Epoch 77/100\n",
      "4/4 [==============================] - 0s 2ms/step - loss: 0.2967\n",
      "Epoch 78/100\n",
      "4/4 [==============================] - 0s 2ms/step - loss: 0.2826\n",
      "Epoch 79/100\n",
      "4/4 [==============================] - 0s 2ms/step - loss: 0.3219\n",
      "Epoch 80/100\n",
      "4/4 [==============================] - 0s 2ms/step - loss: 0.2953\n",
      "Epoch 81/100\n",
      "4/4 [==============================] - 0s 2ms/step - loss: 0.2746\n",
      "Epoch 82/100\n",
      "4/4 [==============================] - 0s 2ms/step - loss: 0.2879\n",
      "Epoch 83/100\n",
      "4/4 [==============================] - 0s 1ms/step - loss: 0.2927\n",
      "Epoch 84/100\n",
      "4/4 [==============================] - 0s 3ms/step - loss: 0.2792\n",
      "Epoch 85/100\n",
      "4/4 [==============================] - 0s 2ms/step - loss: 0.2926\n",
      "Epoch 86/100\n",
      "4/4 [==============================] - 0s 2ms/step - loss: 0.2596\n",
      "Epoch 87/100\n",
      "4/4 [==============================] - 0s 3ms/step - loss: 0.2596\n",
      "Epoch 88/100\n",
      "4/4 [==============================] - 0s 1ms/step - loss: 0.2560\n",
      "Epoch 89/100\n",
      "4/4 [==============================] - 0s 2ms/step - loss: 0.2467\n",
      "Epoch 90/100\n",
      "4/4 [==============================] - 0s 2ms/step - loss: 0.2659\n",
      "Epoch 91/100\n",
      "4/4 [==============================] - 0s 2ms/step - loss: 0.2378\n",
      "Epoch 92/100\n",
      "4/4 [==============================] - 0s 2ms/step - loss: 0.2413\n",
      "Epoch 93/100\n",
      "4/4 [==============================] - 0s 1ms/step - loss: 0.2344\n",
      "Epoch 94/100\n",
      "4/4 [==============================] - 0s 2ms/step - loss: 0.2305\n",
      "Epoch 95/100\n",
      "4/4 [==============================] - 0s 3ms/step - loss: 0.2449\n",
      "Epoch 96/100\n",
      "4/4 [==============================] - 0s 2ms/step - loss: 0.2388\n",
      "Epoch 97/100\n",
      "4/4 [==============================] - 0s 3ms/step - loss: 0.2230\n",
      "Epoch 98/100\n",
      "4/4 [==============================] - 0s 996us/step - loss: 0.2207\n",
      "Epoch 99/100\n",
      "4/4 [==============================] - 0s 1ms/step - loss: 0.2352\n",
      "Epoch 100/100\n",
      "4/4 [==============================] - 0s 1ms/step - loss: 0.2201\n"
     ]
    },
    {
     "data": {
      "text/plain": [
       "<keras.callbacks.History at 0x236d9719490>"
      ]
     },
     "execution_count": 66,
     "metadata": {},
     "output_type": "execute_result"
    }
   ],
   "source": [
    "model.fit(X, y, batch_size=32, epochs=100)"
   ]
  },
  {
   "cell_type": "code",
   "execution_count": 67,
   "id": "a8e22d38",
   "metadata": {
    "scrolled": true
   },
   "outputs": [
    {
     "data": {
      "text/plain": [
       "{'loss': [0.9426130056381226,\n",
       "  0.9013582468032837,\n",
       "  0.8095909953117371,\n",
       "  0.7978848814964294,\n",
       "  0.7725285291671753,\n",
       "  0.75677889585495,\n",
       "  0.7421416640281677,\n",
       "  0.7272534966468811,\n",
       "  0.716072678565979,\n",
       "  0.7159082293510437,\n",
       "  0.6870890259742737,\n",
       "  0.6756759881973267,\n",
       "  0.6695433259010315,\n",
       "  0.680518388748169,\n",
       "  0.646952211856842,\n",
       "  0.6327953934669495,\n",
       "  0.6445014476776123,\n",
       "  0.6417238712310791,\n",
       "  0.6163733005523682,\n",
       "  0.6077516078948975,\n",
       "  0.6053448915481567,\n",
       "  0.5885872840881348,\n",
       "  0.5725355744361877,\n",
       "  0.5788456201553345,\n",
       "  0.568329930305481,\n",
       "  0.5633188486099243,\n",
       "  0.5428847670555115,\n",
       "  0.5410909056663513,\n",
       "  0.5392556190490723,\n",
       "  0.5350940227508545,\n",
       "  0.527910590171814,\n",
       "  0.513262927532196,\n",
       "  0.5020962357521057,\n",
       "  0.5055521726608276,\n",
       "  0.49608883261680603,\n",
       "  0.5008193254470825,\n",
       "  0.49102333188056946,\n",
       "  0.49053603410720825,\n",
       "  0.4674782454967499,\n",
       "  0.49051982164382935,\n",
       "  0.4574863910675049,\n",
       "  0.4635154604911804,\n",
       "  0.44625183939933777,\n",
       "  0.4508708119392395,\n",
       "  0.4335237741470337,\n",
       "  0.43295958638191223,\n",
       "  0.4185559153556824,\n",
       "  0.42963287234306335,\n",
       "  0.42082756757736206,\n",
       "  0.41313210129737854,\n",
       "  0.42614710330963135,\n",
       "  0.4065588116645813,\n",
       "  0.3958553671836853,\n",
       "  0.4114457368850708,\n",
       "  0.377292275428772,\n",
       "  0.37063834071159363,\n",
       "  0.36711257696151733,\n",
       "  0.39226752519607544,\n",
       "  0.3706323504447937,\n",
       "  0.36036843061447144,\n",
       "  0.3619249761104584,\n",
       "  0.3555375039577484,\n",
       "  0.36605304479599,\n",
       "  0.34565940499305725,\n",
       "  0.34558600187301636,\n",
       "  0.3357723653316498,\n",
       "  0.32607102394104004,\n",
       "  0.3470505177974701,\n",
       "  0.3487480878829956,\n",
       "  0.3127967119216919,\n",
       "  0.35662442445755005,\n",
       "  0.3115147650241852,\n",
       "  0.35443636775016785,\n",
       "  0.30720624327659607,\n",
       "  0.2941736876964569,\n",
       "  0.30039089918136597,\n",
       "  0.29669952392578125,\n",
       "  0.2825811505317688,\n",
       "  0.3218836188316345,\n",
       "  0.2953307032585144,\n",
       "  0.274634450674057,\n",
       "  0.28791674971580505,\n",
       "  0.29273566603660583,\n",
       "  0.27915745973587036,\n",
       "  0.2926369905471802,\n",
       "  0.2595891058444977,\n",
       "  0.2596075236797333,\n",
       "  0.2559671998023987,\n",
       "  0.2466893196105957,\n",
       "  0.2659146785736084,\n",
       "  0.2378467321395874,\n",
       "  0.2413468211889267,\n",
       "  0.23440410196781158,\n",
       "  0.23045320808887482,\n",
       "  0.2449370175600052,\n",
       "  0.23876099288463593,\n",
       "  0.22296927869319916,\n",
       "  0.22065897285938263,\n",
       "  0.23518717288970947,\n",
       "  0.22005720436573029]}"
      ]
     },
     "execution_count": 67,
     "metadata": {},
     "output_type": "execute_result"
    }
   ],
   "source": [
    "model.history.history"
   ]
  },
  {
   "cell_type": "code",
   "execution_count": 69,
   "id": "bf418200",
   "metadata": {},
   "outputs": [
    {
     "data": {
      "text/plain": [
       "Text(0.5, 1.0, 'loss of random data')"
      ]
     },
     "execution_count": 69,
     "metadata": {},
     "output_type": "execute_result"
    },
    {
     "data": {
      "image/png": "[encoded data removed]",
      "text/plain": [
       "<Figure size 432x288 with 1 Axes>"
      ]
     },
     "metadata": {
      "needs_background": "light"
     },
     "output_type": "display_data"
    }
   ],
   "source": [
    "plt.plot(model.history.history['loss'])\n",
    "plt.xlabel('epoch')\n",
    "plt.title('loss of random data')"
   ]
  },
  {
   "cell_type": "code",
   "execution_count": null,
   "id": "18bacbca",
   "metadata": {},
   "outputs": [],
   "source": []
  }
 ],
 "metadata": {
  "kernelspec": {
   "display_name": "Python 3",
   "language": "python",
   "name": "python3"
  },
  "language_info": {
   "codemirror_mode": {
    "name": "ipython",
    "version": 3
   },
   "file_extension": ".py",
   "mimetype": "text/x-python",
   "name": "python",
   "nbconvert_exporter": "python",
   "pygments_lexer": "ipython3",
   "version": "3.8.8"
  }
 },
 "nbformat": 4,
 "nbformat_minor": 5
}
